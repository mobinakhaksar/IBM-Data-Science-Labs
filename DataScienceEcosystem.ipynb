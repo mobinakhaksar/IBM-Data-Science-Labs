{
 "cells": [
  {
   "cell_type": "markdown",
   "id": "d76d8173-bcb1-4274-816a-2bd1ce009f8e",
   "metadata": {},
   "source": [
    "# Data Science Tools and Ecosystem"
   ]
  },
  {
   "cell_type": "markdown",
   "id": "c431895b-29b0-46b8-b3f1-09456b9892c1",
   "metadata": {},
   "source": [
    "In this notebook, Data Science Tools and Ecosystem are summarized.\n"
   ]
  },
  {
   "cell_type": "markdown",
   "id": "9da6d535-1eb9-4f31-8142-1c8cde077acc",
   "metadata": {},
   "source": [
    "__Objectives:__\n",
    "+ List popular languages for Data Science\n",
    "+ List commonly libraries for Data Science\n",
    "+ List Data Science Tools"
   ]
  },
  {
   "cell_type": "markdown",
   "id": "ae04045f-3534-4303-8d49-17c15248f4dd",
   "metadata": {},
   "source": [
    "Some of the popular languages that Data Scientists use are:\n",
    "1. Python\n",
    "2. R\n",
    "3. Scala"
   ]
  },
  {
   "cell_type": "markdown",
   "id": "20112b0a-23aa-4994-9b03-a327109ad1f5",
   "metadata": {},
   "source": [
    "Some of the commonly used libraries used by Data Scientists include:\n",
    "1. Numpy\n",
    "2. Pandas\n",
    "3. Matplotlib"
   ]
  },
  {
   "cell_type": "markdown",
   "id": "6e15ec01-f645-47d6-8aa7-1ce05db3a8b8",
   "metadata": {},
   "source": [
    "| Data Science Tools |\n",
    "| ------------------ |\n",
    "| RStudio | \n",
    "| Apache Spark| \n",
    "| TensorFlow |"
   ]
  },
  {
   "cell_type": "markdown",
   "id": "2e4d64f9-29b1-4514-851b-5805553a1025",
   "metadata": {},
   "source": [
    "### Below are a few examples of evaluating arithmetic expressions in Python."
   ]
  },
  {
   "cell_type": "code",
   "execution_count": 2,
   "id": "49dad77c-815f-451d-9a7a-572b53081e70",
   "metadata": {},
   "outputs": [
    {
     "data": {
      "text/plain": [
       "17"
      ]
     },
     "execution_count": 2,
     "metadata": {},
     "output_type": "execute_result"
    }
   ],
   "source": [
    "(3*4)+5\n",
    "#This a simple arithmetic expression to mutiply then add integers"
   ]
  },
  {
   "cell_type": "code",
   "execution_count": 3,
   "id": "ba25b79f-a806-4909-863b-f4722d3e8784",
   "metadata": {},
   "outputs": [
    {
     "data": {
      "text/plain": [
       "3.3333333333333335"
      ]
     },
     "execution_count": 3,
     "metadata": {},
     "output_type": "execute_result"
    }
   ],
   "source": [
    "200/60\n",
    "#This will convert 200 minutes to hours by diving by 60"
   ]
  },
  {
   "cell_type": "markdown",
   "id": "901209b2-6014-4686-ad10-7990159a62c1",
   "metadata": {},
   "source": [
    "## Author\n",
    "Mobina Khaksar"
   ]
  }
 ],
 "metadata": {
  "kernelspec": {
   "display_name": "Python 3 (ipykernel)",
   "language": "python",
   "name": "python3"
  },
  "language_info": {
   "codemirror_mode": {
    "name": "ipython",
    "version": 3
   },
   "file_extension": ".py",
   "mimetype": "text/x-python",
   "name": "python",
   "nbconvert_exporter": "python",
   "pygments_lexer": "ipython3",
   "version": "3.10.0"
  }
 },
 "nbformat": 4,
 "nbformat_minor": 5
}
